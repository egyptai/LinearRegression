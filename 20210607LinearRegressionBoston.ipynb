{
  "nbformat": 4,
  "nbformat_minor": 0,
  "metadata": {
    "colab": {
      "name": "20210607LinearRegressionBoston.ipynb",
      "provenance": [],
      "authorship_tag": "ABX9TyObI//XIVPsG4Q7Jhvi20ZH",
      "include_colab_link": true
    },
    "kernelspec": {
      "name": "python3",
      "display_name": "Python 3"
    },
    "language_info": {
      "name": "python"
    }
  },
  "cells": [
    {
      "cell_type": "markdown",
      "metadata": {
        "id": "view-in-github",
        "colab_type": "text"
      },
      "source": [
        "<a href=\"https://colab.research.google.com/github/egyptai/LinearRegression/blob/main/20210607LinearRegressionBoston.ipynb\" target=\"_parent\"><img src=\"https://colab.research.google.com/assets/colab-badge.svg\" alt=\"Open In Colab\"/></a>"
      ]
    },
    {
      "cell_type": "code",
      "metadata": {
        "id": "cHZnOLQAbnfX"
      },
      "source": [
        "import numpy as np\n",
        "import pandas as pd\n",
        "from sklearn.datasets import load_boston\n",
        "from sklearn.model_selection import train_test_split\n",
        "from sklearn.linear_model import LinearRegression\n",
        "from sklearn.preprocessing import StandardScaler"
      ],
      "execution_count": 2,
      "outputs": []
    },
    {
      "cell_type": "code",
      "metadata": {
        "id": "RztmwsBQlBL2"
      },
      "source": [
        "boston = load_boston()"
      ],
      "execution_count": 3,
      "outputs": []
    },
    {
      "cell_type": "code",
      "metadata": {
        "id": "zNwMmvqplDFr"
      },
      "source": [
        "scaleX = StandardScaler()\n",
        "scaleY = StandardScaler()"
      ],
      "execution_count": 4,
      "outputs": []
    },
    {
      "cell_type": "code",
      "metadata": {
        "id": "luxpEtpwlNCZ"
      },
      "source": [
        "feature_data = scaleX.fit_transform(boston.data)\n",
        "target_data = scaleY.fit_transform(boston.target.reshape(-1,1))"
      ],
      "execution_count": 5,
      "outputs": []
    },
    {
      "cell_type": "code",
      "metadata": {
        "id": "HY_8mD6QlUUx"
      },
      "source": [
        "x_train, x_test, y_train, y_test = train_test_split(feature_data, target_data, test_size = 0.2)"
      ],
      "execution_count": 6,
      "outputs": []
    },
    {
      "cell_type": "code",
      "metadata": {
        "colab": {
          "base_uri": "https://localhost:8080/"
        },
        "id": "UV-RTl_Zlae1",
        "outputId": "ad58a0fd-8ae1-451b-a6bb-a4aa37328745"
      },
      "source": [
        "model = LinearRegression()\n",
        "model.fit(x_train, y_train)"
      ],
      "execution_count": 7,
      "outputs": [
        {
          "output_type": "execute_result",
          "data": {
            "text/plain": [
              "LinearRegression(copy_X=True, fit_intercept=True, n_jobs=None, normalize=False)"
            ]
          },
          "metadata": {
            "tags": []
          },
          "execution_count": 7
        }
      ]
    },
    {
      "cell_type": "code",
      "metadata": {
        "id": "szlhUjLqln3k"
      },
      "source": [
        "n = 0"
      ],
      "execution_count": 8,
      "outputs": []
    },
    {
      "cell_type": "code",
      "metadata": {
        "colab": {
          "base_uri": "https://localhost:8080/"
        },
        "id": "30bHTWYNlqE1",
        "outputId": "18e15636-38cf-4c94-b5df-55ad5cf9b582"
      },
      "source": [
        "df = pd.DataFrame([x_test[n]])\n",
        "df.columns = boston['feature_names']\n",
        "print(df)"
      ],
      "execution_count": 9,
      "outputs": [
        {
          "output_type": "stream",
          "text": [
            "      CRIM        ZN     INDUS  ...   PTRATIO         B     LSTAT\n",
            "0 -0.38097  0.456508 -0.769931  ...  0.297977  0.367371 -0.489636\n",
            "\n",
            "[1 rows x 13 columns]\n"
          ],
          "name": "stdout"
        }
      ]
    },
    {
      "cell_type": "code",
      "metadata": {
        "colab": {
          "base_uri": "https://localhost:8080/"
        },
        "id": "rS29hw70lwz_",
        "outputId": "74e777d9-4b2f-423e-923d-9056515485c9"
      },
      "source": [
        "price = model.predict(x_test[n].reshape(1,-1))\n",
        "print('\\n추정 price = %.2f' %  (scaleY.inverse_transform(price)))\n",
        "print('실제 price = %.2f' % (scaleY.inverse_transform(y_test[n])))"
      ],
      "execution_count": 10,
      "outputs": [
        {
          "output_type": "stream",
          "text": [
            "\n",
            "추정 price = 19.85\n",
            "실제 price = 24.30\n"
          ],
          "name": "stdout"
        }
      ]
    },
    {
      "cell_type": "code",
      "metadata": {
        "colab": {
          "base_uri": "https://localhost:8080/"
        },
        "id": "QNzDnM1gmGD7",
        "outputId": "f15f5c86-a23a-4e74-936f-eded48ed4f17"
      },
      "source": [
        "print('시험 데이터 전체 오류 (R2-score) = %.4f' % model.score(x_test, y_test))"
      ],
      "execution_count": 12,
      "outputs": [
        {
          "output_type": "stream",
          "text": [
            "시험 데이터 전체 오류 (R2-score) = 0.7260\n"
          ],
          "name": "stdout"
        }
      ]
    },
    {
      "cell_type": "code",
      "metadata": {
        "id": "-p7ClQCFmO5F"
      },
      "source": [
        ""
      ],
      "execution_count": null,
      "outputs": []
    }
  ]
}