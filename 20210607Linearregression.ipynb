{
  "nbformat": 4,
  "nbformat_minor": 0,
  "metadata": {
    "colab": {
      "name": "20210607Linearregression.ipynb",
      "provenance": [],
      "authorship_tag": "ABX9TyOcJJlLQmFllvgU8l9e5YRV",
      "include_colab_link": true
    },
    "kernelspec": {
      "name": "python3",
      "display_name": "Python 3"
    },
    "language_info": {
      "name": "python"
    }
  },
  "cells": [
    {
      "cell_type": "markdown",
      "metadata": {
        "id": "view-in-github",
        "colab_type": "text"
      },
      "source": [
        "<a href=\"https://colab.research.google.com/github/egyptai/LinearRegression/blob/main/20210607Linearregression.ipynb\" target=\"_parent\"><img src=\"https://colab.research.google.com/assets/colab-badge.svg\" alt=\"Open In Colab\"/></a>"
      ]
    },
    {
      "cell_type": "code",
      "metadata": {
        "id": "0kN5PyYlZVRc"
      },
      "source": [
        "import numpy as np\n",
        "import matplotlib.pyplot as plt\n",
        "from sklearn.linear_model import LinearRegression"
      ],
      "execution_count": 1,
      "outputs": []
    },
    {
      "cell_type": "code",
      "metadata": {
        "id": "ZN-zTOV5Zbjc"
      },
      "source": [
        "def createData(a, b, n):\n",
        "  resultX = []\n",
        "  resultY = []\n",
        "  for i in range(n):\n",
        "      x = np.random.normal(0.0, 0.5)\n",
        "      y = a * x + b + np.random.normal(0.0, 0.05)\n",
        "      resultX.append(x)\n",
        "      resultY.append(y)\n",
        "\n",
        "  return np.array(resultX).reshape(-1,1), np.array(resultY).reshape(-1,1)"
      ],
      "execution_count": 3,
      "outputs": []
    },
    {
      "cell_type": "code",
      "metadata": {
        "id": "fqd2XJKOZ1vA"
      },
      "source": [
        "X, Y = createData(0.1, 0.3, 1000)"
      ],
      "execution_count": 4,
      "outputs": []
    },
    {
      "cell_type": "code",
      "metadata": {
        "colab": {
          "base_uri": "https://localhost:8080/"
        },
        "id": "MVA8MrWNZ8yf",
        "outputId": "5f24704a-05fc-4b53-934d-431cbac2d7d7"
      },
      "source": [
        "model = LinearRegression()\n",
        "model.fit(X, Y)"
      ],
      "execution_count": 5,
      "outputs": [
        {
          "output_type": "execute_result",
          "data": {
            "text/plain": [
              "LinearRegression(copy_X=True, fit_intercept=True, n_jobs=None, normalize=False)"
            ]
          },
          "metadata": {
            "tags": []
          },
          "execution_count": 5
        }
      ]
    },
    {
      "cell_type": "code",
      "metadata": {
        "colab": {
          "base_uri": "https://localhost:8080/"
        },
        "id": "_65A752oZ_7W",
        "outputId": "d133e17a-064f-48b0-b436-21fb314361a3"
      },
      "source": [
        "a = model.coef_[0][0]\n",
        "b = model.intercept_[0]\n",
        "print(\"\\n*회귀직선의 방정식 (OLS): y = %.4f * x + %.4f\" % (a,b))\n",
        "yHat = model.predict(X)"
      ],
      "execution_count": 7,
      "outputs": [
        {
          "output_type": "stream",
          "text": [
            "\n",
            "*회귀직선의 방정식 (OLS): y = 0.1010 * x + 0.3005\n"
          ],
          "name": "stdout"
        }
      ]
    },
    {
      "cell_type": "code",
      "metadata": {
        "colab": {
          "base_uri": "https://localhost:8080/",
          "height": 320
        },
        "id": "QHPp69zYaPXb",
        "outputId": "8b916636-cfbd-463a-b98f-cf56c9b8cc9f"
      },
      "source": [
        "fig = plt.figure(figsize=(5, 5))\n",
        "plt.plot(X, Y, 'ro', markersize=1.5)\n",
        "plt.plot(X, yHat)\n",
        "plt.show()"
      ],
      "execution_count": 8,
      "outputs": [
        {
          "output_type": "display_data",
          "data": {
            "image/png": "[encoded data removed]",
            "text/plain": [
              "<Figure size 360x360 with 1 Axes>"
            ]
          },
          "metadata": {
            "tags": [],
            "needs_background": "light"
          }
        }
      ]
    },
    {
      "cell_type": "code",
      "metadata": {
        "colab": {
          "base_uri": "https://localhost:8080/"
        },
        "id": "RJ5V6V0jaayo",
        "outputId": "997096d2-52de-4f18-9aeb-c445053a8f8c"
      },
      "source": [
        "print('\\n시험 데이터 전체 오류 (R2-score) = %.4f' % model.score(X,Y))"
      ],
      "execution_count": 9,
      "outputs": [
        {
          "output_type": "stream",
          "text": [
            "\n",
            "시험 데이터 전체 오류 (R2-score) = 0.5333\n"
          ],
          "name": "stdout"
        }
      ]
    },
    {
      "cell_type": "code",
      "metadata": {
        "colab": {
          "base_uri": "https://localhost:8080/"
        },
        "id": "qNqtdvpAakOX",
        "outputId": "1f3933e1-97bd-42b1-a233-a389bfb5ca01"
      },
      "source": [
        "ssr = np.sum(np.square(yHat - Y))\n",
        "sst = np.sum(np.square(Y - Y.mean()))\n",
        "R2 = 1 - ssr / sst\n",
        "print('R-square = %.4f % R2')"
      ],
      "execution_count": 11,
      "outputs": [
        {
          "output_type": "stream",
          "text": [
            "R-square = %.4f % R2\n"
          ],
          "name": "stdout"
        }
      ]
    },
    {
      "cell_type": "code",
      "metadata": {
        "id": "acFf2aJ3a4cr"
      },
      "source": [
        ""
      ],
      "execution_count": null,
      "outputs": []
    }
  ]
}